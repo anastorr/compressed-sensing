{
 "cells": [
  {
   "cell_type": "code",
   "metadata": {
    "ExecuteTime": {
     "end_time": "2025-05-14T17:33:43.268706Z",
     "start_time": "2025-05-14T17:33:41.531321Z"
    }
   },
   "source": [
    "import numpy as np\n",
    "import scipy as sc\n",
    "from numba import jit, float64\n",
    "import matplotlib.pyplot as plt"
   ],
   "outputs": [],
   "execution_count": 2
  },
  {
   "cell_type": "markdown",
   "metadata": {},
   "source": [
    "## Chambolle-Pock"
   ]
  },
  {
   "cell_type": "markdown",
   "metadata": {},
   "source": [
    "Problem:\n",
    "$$\\textrm{minimize} \\left\\lVert x \\right\\rVert _1 \\textrm{subject to } Ax=b$$\n",
    "or\n",
    "$$\\textrm{minimize} \\left\\lVert x \\right\\rVert _1 + \\delta_{b}(Ax)$$\n",
    "Algorithm for a problem $\\textrm{minimize} f(x) + g(Ax)$:\n",
    "$$x_{n+1} = \\mathrm{prox}_{\\lambda f}(x_n - \\lambda A^T\\omega_n)$$\n",
    "$$w_{n+1} = \\mathrm{prox}_{\\beta g^*}(\\omega_n+\\beta A(2x_{n+1}-x_n)) $$\n",
    "where $g^*(x^*) = \\langle x^*, b \\rangle$"
   ]
  },
  {
   "cell_type": "code",
   "metadata": {
    "ExecuteTime": {
     "end_time": "2025-05-06T12:26:02.038471Z",
     "start_time": "2025-05-06T12:26:02.034692Z"
    }
   },
   "source": [
    "# prox_{\\lambda f}\n",
    "@jit\n",
    "def prox_f(x, step):\n",
    "    vec = np.abs(x) - step\n",
    "    vec[vec<0] = 0\n",
    "    return np.sign(x)*vec\n",
    "\n",
    "\n",
    "#prox_{\\sigma g*}\n",
    "@jit\n",
    "def prox_g(x, b, step):\n",
    "    return x - step*b"
   ],
   "outputs": [],
   "execution_count": 9
  },
  {
   "cell_type": "code",
   "metadata": {
    "ExecuteTime": {
     "end_time": "2025-05-06T12:26:59.487496Z",
     "start_time": "2025-05-06T12:26:59.481956Z"
    }
   },
   "source": [
    "def l1_chambolle_pock(A, b, lambd, beta, N, **kwargs):\n",
    "    x = kwargs.get('x0', np.zeros(A.shape[1]))\n",
    "    omega = kwargs.get('omega0', np.zeros(A.shape[0]))\n",
    "    sol = chambolle_pock(A, b, lambd, beta, N, x, omega)\n",
    "    return sol\n",
    "\n",
    "@jit\n",
    "def chambolle_pock(A, b, lambd, beta, N, x, omega):\n",
    "    A_t = A.T\n",
    "    x_next = prox_f(x-lambd*np.dot(A_t, omega), lambd)\n",
    "    omega_next = prox_g(omega + beta*np.dot(A, 2*x_next - x), b, beta)\n",
    "    n = 1\n",
    "    while n < N:\n",
    "        x = x_next\n",
    "        omega = omega_next\n",
    "        x_next = prox_f(x-lambd*np.dot(A_t, omega), lambd)\n",
    "        omega_next = prox_g(omega + beta*np.dot(A, 2*x_next - x), b, beta)\n",
    "        n += 1\n",
    "        # print(\"m = {}  {}% done\".format(len(b), round(n/N*100, 2)), end='\\r', flush=True)\n",
    "    return x_next"
   ],
   "outputs": [],
   "execution_count": 13
  },
  {
   "cell_type": "code",
   "metadata": {
    "ExecuteTime": {
     "end_time": "2025-05-06T12:27:22.881366Z",
     "start_time": "2025-05-06T12:27:22.873619Z"
    }
   },
   "source": [
    "x_test = np.array([0, 2, 0, 0, 0, 0, 0, 0, 0, 0])\n",
    "A_test = np.random.normal(size=(8, 10))\n",
    "y_test = np.matmul(A_test, x_test)\n",
    "xs_test = [l1_chambolle_pock(A_test, y_test, 0.05, 0.05, N) for N in [300, 400, 500, 600, 700, 800, 900, 1000]]"
   ],
   "outputs": [],
   "execution_count": 23
  },
  {
   "cell_type": "code",
   "metadata": {
    "ExecuteTime": {
     "end_time": "2025-05-06T12:27:24.733624Z",
     "start_time": "2025-05-06T12:27:24.520285Z"
    }
   },
   "source": [
    "plt.plot([300, 400, 500, 600, 700, 800, 900, 1000], [np.linalg.norm(xx-x_test) for xx in xs_test])"
   ],
   "outputs": [
    {
     "data": {
      "text/plain": [
       "[<matplotlib.lines.Line2D at 0x7f05d24d0810>]"
      ]
     },
     "execution_count": 24,
     "metadata": {},
     "output_type": "execute_result"
    },
    {
     "data": {
      "text/plain": [
       "<Figure size 640x480 with 1 Axes>"
      ],
      "image/png": "[encoded data removed]"
     },
     "metadata": {},
     "output_type": "display_data"
    }
   ],
   "execution_count": 24
  },
  {
   "cell_type": "code",
   "metadata": {
    "ExecuteTime": {
     "end_time": "2025-05-06T12:27:30.322815Z",
     "start_time": "2025-05-06T12:27:30.318024Z"
    }
   },
   "source": [
    "A = np.random.normal(size=(10, 100))\n",
    "np.linalg.norm(A, ord=2)**2"
   ],
   "outputs": [
    {
     "data": {
      "text/plain": [
       "np.float64(154.2661103789284)"
      ]
     },
     "execution_count": 25,
     "metadata": {},
     "output_type": "execute_result"
    }
   ],
   "execution_count": 25
  },
  {
   "cell_type": "markdown",
   "metadata": {},
   "source": [
    "$2s \\log{\\frac{N}{s}} + \\frac{5}{4}s + 1$ random Gaussian measurements suffice to recover the s-sparse vector"
   ]
  },
  {
   "cell_type": "code",
   "metadata": {
    "ExecuteTime": {
     "end_time": "2025-05-06T12:27:35.696627Z",
     "start_time": "2025-05-06T12:27:35.690818Z"
    }
   },
   "source": [
    "s = 10\n",
    "N = 100\n",
    "2*s*np.log(N/s) + 5/4*s + 1"
   ],
   "outputs": [
    {
     "data": {
      "text/plain": [
       "np.float64(59.55170185988092)"
      ]
     },
     "execution_count": 26,
     "metadata": {},
     "output_type": "execute_result"
    }
   ],
   "execution_count": 26
  },
  {
   "cell_type": "code",
   "metadata": {
    "ExecuteTime": {
     "end_time": "2025-05-06T12:27:37.569479Z",
     "start_time": "2025-05-06T12:27:37.537603Z"
    }
   },
   "source": [
    "x = np.zeros(100)\n",
    "x[np.random.choice(range(0, 100), size=10, replace=False)] = np.random.randint(0, 2, 10)*2-1\n",
    "ms = [10, 20, 30, 40, 50, 60, 70, 80, 90, 100]\n",
    "As = [[np.random.normal(size=(m, 100)) for m in ms] for i in range(10)]\n",
    "ys = [[np.matmul(A, x) for A in A_sizes]for A_sizes in As]\n",
    "x"
   ],
   "outputs": [
    {
     "data": {
      "text/plain": [
       "array([ 0.,  0.,  0.,  0.,  0.,  0.,  0.,  0.,  0.,  0.,  0.,  0.,  0.,\n",
       "        0.,  0.,  0.,  0.,  0.,  0.,  0., -1.,  0.,  1.,  0.,  0.,  0.,\n",
       "        0.,  0.,  0.,  0.,  0.,  0.,  0.,  0.,  0.,  0.,  0.,  0.,  0.,\n",
       "        0.,  0., -1.,  0.,  0.,  1.,  0.,  0., -1.,  0.,  0.,  0.,  0.,\n",
       "        0.,  0.,  0.,  1., -1.,  0.,  0.,  0.,  0.,  0.,  0.,  1.,  0.,\n",
       "        0.,  0., -1.,  0.,  0.,  0.,  0.,  0.,  0.,  0.,  1.,  0.,  0.,\n",
       "        0.,  0.,  0.,  0.,  0.,  0.,  0.,  0.,  0.,  0.,  0.,  0.,  0.,\n",
       "        0.,  0.,  0.,  0.,  0.,  0.,  0.,  0.,  0.])"
      ]
     },
     "execution_count": 27,
     "metadata": {},
     "output_type": "execute_result"
    }
   ],
   "execution_count": 27
  },
  {
   "cell_type": "code",
   "metadata": {
    "ExecuteTime": {
     "end_time": "2025-05-06T12:27:42.092890Z",
     "start_time": "2025-05-06T12:27:40.396099Z"
    }
   },
   "source": [
    "solutions2 = [[l1_chambolle_pock(A, y, 0.01, 0.01, N=5000) for (A, y) in zip(A_sizes, y_sizes)] \n",
    "             for (A_sizes, y_sizes) in zip(As, ys)]"
   ],
   "outputs": [],
   "execution_count": 28
  },
  {
   "cell_type": "code",
   "metadata": {
    "ExecuteTime": {
     "end_time": "2025-05-06T12:27:44.204940Z",
     "start_time": "2025-05-06T12:27:44.188519Z"
    }
   },
   "source": [
    "errors = np.array([[np.linalg.norm(sol - x) for sol in solutions_sizes] for solutions_sizes in solutions2])\n",
    "success = np.zeros(errors.shape)\n",
    "success[errors<0.001] = 1\n",
    "success.sum(axis=0)"
   ],
   "outputs": [
    {
     "data": {
      "text/plain": [
       "array([ 0.,  0.,  0.,  6.,  7., 10., 10., 10., 10., 10.])"
      ]
     },
     "execution_count": 29,
     "metadata": {},
     "output_type": "execute_result"
    }
   ],
   "execution_count": 29
  },
  {
   "cell_type": "code",
   "metadata": {
    "ExecuteTime": {
     "end_time": "2025-05-06T12:27:47.252487Z",
     "start_time": "2025-05-06T12:27:47.103834Z"
    }
   },
   "source": [
    "plt.plot(ms, success.sum(axis=0))\n",
    "s = 10\n",
    "N = 100\n",
    "plt.vlines(2*s*np.log(N/s) + 5/4*s + 1, ymin=0, ymax=10, colors='red', linestyles='dashed')\n",
    "plt.show()"
   ],
   "outputs": [
    {
     "data": {
      "text/plain": [
       "<Figure size 640x480 with 1 Axes>"
      ],
      "image/png": "[encoded data removed]"
     },
     "metadata": {},
     "output_type": "display_data"
    }
   ],
   "execution_count": 30
  },
  {
   "cell_type": "markdown",
   "metadata": {},
   "source": [
    "plot matrix of successes with different s (imshow)\n",
    "living on the edge paper"
   ]
  },
  {
   "cell_type": "code",
   "execution_count": null,
   "metadata": {},
   "outputs": [],
   "source": [
    "'''\n",
    "A: axis0 - varying m\n",
    "   axis1 - different random matrices\n",
    "x: axis0 - varying s\n",
    "y: axis0 - varying s\n",
    "   axis1 - varying m\n",
    "   axis2 - different random matrices\n",
    "'''"
   ]
  },
  {
   "cell_type": "code",
   "metadata": {
    "ExecuteTime": {
     "end_time": "2025-05-06T12:27:51.403163Z",
     "start_time": "2025-05-06T12:27:51.397408Z"
    }
   },
   "source": [
    "def phase_trans(dim, sparse_step, mesure_step, n_of_tests, n_iter=5000):\n",
    "\n",
    "    x = np.zeros(shape=(dim//sparse_step+1, dim))\n",
    "    for i in range(0, dim//sparse_step+1):\n",
    "        non_sparse = np.random.choice(range(0, dim), size = i*sparse_step, replace=False)\n",
    "        x[i, non_sparse] = np.random.randint(0, 2, size=non_sparse.shape[0])*2-1\n",
    "    ms = np.linspace(mesure_step, dim, dim//mesure_step, dtype=int)\n",
    "    As = [[np.random.normal(size=(m, dim)) for i in range(n_of_tests)] for m in ms]\n",
    "    ys = [[[np.matmul(A, x_s) for A in As[i]] for i in range(len(ms))] for x_s in x]\n",
    "\n",
    "    solutions = np.zeros((x.shape[0], len(ms), len(As[0]), dim))\n",
    "\n",
    "    count = 0 \n",
    "    for i in range(len(x)):\n",
    "        for j in range(len(ms)):\n",
    "            for k in range(n_of_tests):\n",
    "                solutions[i][j][k] = l1_chambolle_pock(As[j][k], ys[i][j][k], 0.01, 0.01, N=n_iter)\n",
    "                # print(f\"s = {i*sparse_step:3d}, m = {(j+1)*mesure_step:3d}, test #{k:3d}/{n_of_tests}\")\n",
    "                count += 1\n",
    "                if count%10==0: \n",
    "                    print(\"{:2f}% done\".format(count/(len(x)*len(ms)*n_of_tests)*100), end='\\r')\n",
    "\n",
    "    return solutions, x\n",
    "    "
   ],
   "outputs": [],
   "execution_count": 31
  },
  {
   "cell_type": "code",
   "metadata": {},
   "source": [
    "res, x = phase_trans(100, 1, 1, 10, n_iter=10000)"
   ],
   "outputs": [],
   "execution_count": null
  },
  {
   "cell_type": "code",
   "execution_count": 65,
   "metadata": {},
   "outputs": [
    {
     "data": {
      "text/plain": [
       "array([[10., 10., 10., ..., 10., 10., 10.],\n",
       "       [ 0.,  2.,  0., ..., 10., 10., 10.],\n",
       "       [ 0.,  0.,  0., ..., 10., 10., 10.],\n",
       "       ...,\n",
       "       [ 0.,  0.,  0., ...,  0.,  0.,  0.],\n",
       "       [ 0.,  0.,  0., ...,  0.,  0.,  0.],\n",
       "       [ 0.,  0.,  0., ...,  0.,  0.,  0.]], shape=(101, 100))"
      ]
     },
     "execution_count": 65,
     "metadata": {},
     "output_type": "execute_result"
    }
   ],
   "source": [
    "error = np.zeros(res.shape[:-1])\n",
    "for i in range(res.shape[0]):\n",
    "    for j in range(res.shape[1]):\n",
    "        for k in range(res.shape[2]):\n",
    "            error[i, j, k] = np.linalg.norm(res[i, j, k] - x[i])\n",
    "is_successful = np.zeros(res.shape[:-1])\n",
    "is_successful[error<0.001] = 1\n",
    "is_successful.sum(axis=2)"
   ]
  },
  {
   "cell_type": "code",
   "execution_count": 66,
   "metadata": {},
   "outputs": [
    {
     "data": {
      "image/png": "[encoded data removed]",
      "text/plain": [
       "<Figure size 640x480 with 1 Axes>"
      ]
     },
     "metadata": {},
     "output_type": "display_data"
    }
   ],
   "source": [
    "s = np.linspace(1, 100, 100)\n",
    "crit = 2*s*np.log(100/s) + 5/4*s + 1\n",
    "plt.plot(s, crit, c='red')\n",
    "plt.imshow(is_successful.sum(axis=2).T, cmap='binary_r', extent=[0, 100, 0, 100], origin='lower')\n",
    "plt.show()"
   ]
  },
  {
   "cell_type": "code",
   "metadata": {
    "ExecuteTime": {
     "end_time": "2025-05-06T12:28:48.666910Z",
     "start_time": "2025-05-06T12:28:47.879052Z"
    }
   },
   "source": [
    "import cvxpy as cp"
   ],
   "outputs": [],
   "execution_count": 34
  },
  {
   "cell_type": "code",
   "metadata": {
    "ExecuteTime": {
     "end_time": "2025-05-06T12:28:45.867688Z",
     "start_time": "2025-05-06T12:28:45.856452Z"
    }
   },
   "source": [
    "def phase_trans_cvxpy(dim, sparse_step, mesure_step, n_of_tests):\n",
    "\n",
    "    x = np.zeros(shape=(dim//sparse_step+1, dim))\n",
    "    for i in range(0, dim//sparse_step+1):\n",
    "        non_sparse = np.random.choice(range(0, dim), size = i*sparse_step, replace=False)\n",
    "        x[i, non_sparse] = np.random.randint(-100, 100, size=non_sparse.shape[0])\n",
    "    ms = np.linspace(mesure_step, dim, dim//mesure_step, dtype=int)\n",
    "    As = [[np.random.normal(size=(m, dim)) for i in range(n_of_tests)] for m in ms]\n",
    "    ys = [[[np.matmul(A, x_s) for A in As[i]] for i in range(len(ms))] for x_s in x]\n",
    "\n",
    "    solutions = np.zeros((x.shape[0], len(ms), len(As[0]), dim))\n",
    "\n",
    "    count = 0 \n",
    "    for i in range(len(x)):\n",
    "        for j in range(len(ms)):\n",
    "            for k in range(n_of_tests):\n",
    "                sol = cp.Variable(shape=x.shape[1])\n",
    "                constr = [As[j][k]@sol == ys[i][j][k]]\n",
    "                obj = cp.Minimize(cp.norm(sol, 1))\n",
    "                prob = cp.Problem(obj, constr)\n",
    "                prob.solve()\n",
    "                solutions[i][j][k] = sol.value\n",
    "                # print(f\"s = {i*sparse_step:3d}, m = {(j+1)*mesure_step:3d}, test #{k:3d}/{n_of_tests}\")\n",
    "                count += 1\n",
    "                if count%10==0: \n",
    "                    print(\"{:2f}% done\".format(count/(len(x)*len(ms)*n_of_tests)*100), end='\\r')\n",
    "\n",
    "    return solutions, x"
   ],
   "outputs": [],
   "execution_count": 33
  },
  {
   "cell_type": "code",
   "metadata": {
    "jupyter": {
     "is_executing": true
    },
    "ExecuteTime": {
     "start_time": "2025-05-06T12:28:52.184343Z"
    }
   },
   "source": [
    "res_cvxpy, x_cvxpy = phase_trans_cvxpy(100, 1, 1, 10)"
   ],
   "outputs": [
    {
     "name": "stdout",
     "output_type": "stream",
     "text": [
      "1.841584% done\r"
     ]
    }
   ],
   "execution_count": null
  },
  {
   "cell_type": "code",
   "execution_count": 10,
   "metadata": {},
   "outputs": [
    {
     "data": {
      "text/plain": [
       "array([[10., 10., 10., ..., 10., 10., 10.],\n",
       "       [ 0.,  0.,  1., ..., 10., 10., 10.],\n",
       "       [ 0.,  0.,  0., ..., 10., 10., 10.],\n",
       "       ...,\n",
       "       [ 0.,  0.,  0., ...,  0.,  1., 10.],\n",
       "       [ 0.,  0.,  0., ...,  0.,  0., 10.],\n",
       "       [ 0.,  0.,  0., ...,  0.,  0., 10.]], shape=(101, 100))"
      ]
     },
     "execution_count": 10,
     "metadata": {},
     "output_type": "execute_result"
    }
   ],
   "source": [
    "error_cvxpy = np.zeros(res_cvxpy.shape[:-1])\n",
    "for i in range(res_cvxpy.shape[0]):\n",
    "    for j in range(res_cvxpy.shape[1]):\n",
    "        for k in range(res_cvxpy.shape[2]):\n",
    "            error_cvxpy[i, j, k] = np.linalg.norm(res_cvxpy[i, j, k] - x_cvxpy[i])\n",
    "is_successful = np.zeros(res_cvxpy.shape[:-1])\n",
    "is_successful[error_cvxpy<0.0001] = 1\n",
    "is_successful.sum(axis=2)"
   ]
  },
  {
   "cell_type": "code",
   "execution_count": 11,
   "metadata": {},
   "outputs": [
    {
     "data": {
      "image/png": "[encoded data removed]",
      "text/plain": [
       "<Figure size 640x480 with 1 Axes>"
      ]
     },
     "metadata": {},
     "output_type": "display_data"
    }
   ],
   "source": [
    "s = np.linspace(1, 100, 100)\n",
    "crit = 2*s*np.log(100/s) + 5/4*s + 1\n",
    "plt.plot(s, crit, c='red')\n",
    "plt.imshow(is_successful.sum(axis=2).T, cmap='binary_r', extent=[0, 100, 0, 100], origin='lower')\n",
    "plt.show()"
   ]
  },
  {
   "metadata": {},
   "cell_type": "code",
   "outputs": [],
   "execution_count": null,
   "source": ""
  },
  {
   "cell_type": "markdown",
   "metadata": {},
   "source": [
    "в якості критерію зупинки можна використовувати відносну зміну приросту норми розв'язку на ітераціях"
   ]
  }
 ],
 "metadata": {
  "kernelspec": {
   "display_name": "compressed sensing",
   "language": "python",
   "name": "python3"
  },
  "language_info": {
   "codemirror_mode": {
    "name": "ipython",
    "version": 3
   },
   "file_extension": ".py",
   "mimetype": "text/x-python",
   "name": "python",
   "nbconvert_exporter": "python",
   "pygments_lexer": "ipython3",
   "version": "3.11.2"
  }
 },
 "nbformat": 4,
 "nbformat_minor": 2
}
